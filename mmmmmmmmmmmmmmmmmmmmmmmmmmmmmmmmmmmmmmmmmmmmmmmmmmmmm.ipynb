{
 "cells": [
  {
   "cell_type": "code",
   "execution_count": null,
   "id": "opponent-musical",
   "metadata": {},
   "outputs": [],
   "source": [
    "# How to add buttons and labels at same time with clickable option\n",
    "import tkinter as tk\n",
    "from tkinter import *\n",
    "#creat instance\n",
    "win=Tk()\n",
    "# add label method 2\n",
    "mylabel=tk.Label(win, text=\"guess the number 10\")\n",
    "mylabel.grid(column=0 ,row=0)\n",
    "# button function\n",
    "def click_me():\n",
    "    btn.configure(text=\"winner\")\n",
    "    mylabel.configure(foreground='blue')\n",
    "    mylabel.configure(text=\"10\")\n",
    "def click_me2():\n",
    "    btn2.configure(text=\"looser\")\n",
    "    mylabel.configure(foreground='green')\n",
    "    mylabel.configure(text=\"9\")\n",
    "def click_me3():\n",
    "    btn3.configure(text=\"looser\")\n",
    "    mylabel.configure(foreground='yellow')\n",
    "    mylabel.configure(text=\"8\")\n",
    "def click_me4():\n",
    "    btn3.configure(text=\"looser\")\n",
    "    mylabel.configure(foreground='orange')\n",
    "    mylabel.configure(text=\"100\")     \n",
    "    \n",
    "# adding a button    \n",
    "btn= tk.Button(win, text=\"guess 10\", command=click_me)    \n",
    "btn.grid(column=0, row=1)\n",
    "btn2= tk.Button(win, text=\"guess 10\", command=click_me2)    \n",
    "btn2.grid(column=0, row=2)\n",
    "btn3= tk.Button(win, text=\"guess 10\", command=click_me3)    \n",
    "btn3.grid(column=0, row=3)\n",
    "btn4= tk.Button(win, text=\"guess 10\", command=click_me4)    \n",
    "btn4.grid(column=0, row=4)\n",
    "win.mainloop()    "
   ]
  },
  {
   "cell_type": "code",
   "execution_count": 8,
   "id": "closing-retention",
   "metadata": {},
   "outputs": [
    {
     "name": "stdout",
     "output_type": "stream",
     "text": [
      "[1]\n"
     ]
    }
   ],
   "source": [
    "lista = [1,3,5,7,9]\n",
    "listb = [1,2,4,6,8,10]\n",
    "\n",
    "common_num = []\n",
    "for a in lista:\n",
    "    for b in listb:\n",
    "        if a == b:\n",
    "            common_num.append(a) \n",
    "            \n",
    "print(common_num)            "
   ]
  },
  {
   "cell_type": "code",
   "execution_count": 9,
   "id": "referenced-rebound",
   "metadata": {},
   "outputs": [
    {
     "name": "stdout",
     "output_type": "stream",
     "text": [
      "[1]\n"
     ]
    }
   ],
   "source": [
    "lista = [1,3,5,7,9]\n",
    "listb = [1,2,4,6,8,10]\n",
    "\n",
    "common_num = [a for a in lista for b in listb if a==b]\n",
    "print(common_num)"
   ]
  },
  {
   "cell_type": "code",
   "execution_count": 7,
   "id": "postal-security",
   "metadata": {},
   "outputs": [
    {
     "name": "stdout",
     "output_type": "stream",
     "text": [
      "[1, 1, 1, 3, 3, 3, 3, 5, 5, 5, 5]\n"
     ]
    }
   ],
   "source": [
    "lista = [1,3,5]\n",
    "listb = [1,2,6,7]\n",
    "\n",
    "diffrent_num = [a for a in lista for b in listb if a!=b]\n",
    "print(diffrent_num)"
   ]
  },
  {
   "cell_type": "code",
   "execution_count": 10,
   "id": "numeric-understanding",
   "metadata": {},
   "outputs": [
    {
     "name": "stdout",
     "output_type": "stream",
     "text": [
      "[0, 2, 4, 6, 8, 10, 12, 14, 16, 18]\n"
     ]
    }
   ],
   "source": [
    "number_list = [x for x in range(20)if x%2 ==0]\n",
    "print(number_list)"
   ]
  },
  {
   "cell_type": "code",
   "execution_count": 11,
   "id": "nutritional-brass",
   "metadata": {},
   "outputs": [
    {
     "name": "stdout",
     "output_type": "stream",
     "text": [
      "[0, 10, 20, 30, 40, 50, 60, 70, 80, 90]\n"
     ]
    }
   ],
   "source": [
    "number_list = [x for x in range(100)if x%2 ==0 if x%5==0]\n",
    "print(number_list) "
   ]
  },
  {
   "cell_type": "code",
   "execution_count": 16,
   "id": "mobile-credits",
   "metadata": {},
   "outputs": [
    {
     "name": "stdout",
     "output_type": "stream",
     "text": [
      "['the', 'cat', 'is', 'under', 'the', 'table', 'and', 'above', 'the', 'chair']\n",
      "[2, 5, 5, 5, 5]\n"
     ]
    }
   ],
   "source": [
    "sentence = \"the cat is under the table and above the chair\"\n",
    "words = sentence.split()\n",
    "word_lenght = []\n",
    "\n",
    "for x in words:\n",
    "    if len (x)!= 3:\n",
    "       word_lenght.append (len(x))\n",
    "   \n",
    "print(words)\n",
    "\n",
    "print(word_lenght)"
   ]
  },
  {
   "cell_type": "code",
   "execution_count": null,
   "id": "adopted-taxation",
   "metadata": {},
   "outputs": [],
   "source": [
    "sentence = \"the cat is under the table and above the chair\"\n",
    "words = sentence.split()\n",
    "word_lenght = [len(x) for x in words if]\n",
    "print(word_lenght)"
   ]
  }
 ],
 "metadata": {
  "kernelspec": {
   "display_name": "Python 3",
   "language": "python",
   "name": "python3"
  },
  "language_info": {
   "codemirror_mode": {
    "name": "ipython",
    "version": 3
   },
   "file_extension": ".py",
   "mimetype": "text/x-python",
   "name": "python",
   "nbconvert_exporter": "python",
   "pygments_lexer": "ipython3",
   "version": "3.8.7"
  }
 },
 "nbformat": 4,
 "nbformat_minor": 5
}
